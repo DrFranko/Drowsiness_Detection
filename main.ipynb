{
 "cells": [
  {
   "cell_type": "code",
   "execution_count": 1,
   "metadata": {},
   "outputs": [
    {
     "name": "stderr",
     "output_type": "stream",
     "text": [
      "c:\\Users\\frank\\anaconda3\\envs\\NLP\\lib\\site-packages\\tqdm\\auto.py:21: TqdmWarning: IProgress not found. Please update jupyter and ipywidgets. See https://ipywidgets.readthedocs.io/en/stable/user_install.html\n",
      "  from .autonotebook import tqdm as notebook_tqdm\n"
     ]
    }
   ],
   "source": [
    "import torch\n",
    "import torch.nn as nn\n",
    "import torch.optim as optim\n",
    "from torch.utils.data import DataLoader, Dataset\n",
    "from torchvision import transforms\n",
    "from PIL import Image\n",
    "import os\n",
    "import pandas as pd"
   ]
  },
  {
   "cell_type": "code",
   "execution_count": 2,
   "metadata": {},
   "outputs": [],
   "source": [
    "class CNN(nn.Module):\n",
    "    def __init__(self):\n",
    "        super(CNN, self).__init__()\n",
    "        \n",
    "        self.conv1 = nn.Conv2d(in_channels=3, out_channels=32, kernel_size=3, padding=1)\n",
    "        self.conv2 = nn.Conv2d(in_channels=32, out_channels=32, kernel_size=3, padding=1)\n",
    "        self.conv3 = nn.Conv2d(in_channels=32, out_channels=64, kernel_size=3, padding=1)\n",
    "        self.conv4 = nn.Conv2d(in_channels=64, out_channels=64, kernel_size=3, padding=1)\n",
    "        self.conv5 = nn.Conv2d(in_channels=64, out_channels=64, kernel_size=3, padding=1)\n",
    "        self.conv6 = nn.Conv2d(in_channels=64, out_channels=64, kernel_size=3, padding=1)\n",
    "        self.conv7 = nn.Conv2d(in_channels=64, out_channels=64, kernel_size=3, padding=1)\n",
    "\n",
    "        self.pool = nn.MaxPool2d(kernel_size=2, stride=2)\n",
    "        self.relu = nn.ReLU()\n",
    "\n",
    "        self.dropout1 = nn.Dropout(0.2)\n",
    "        self.dropout2 = nn.Dropout(0.3)\n",
    "        self.dropout3 = nn.Dropout(0.4)\n",
    "        self.dropout4 = nn.Dropout(0.5)\n",
    "\n",
    "        self.adaptive_pool = nn.AdaptiveAvgPool2d((2, 2))\n",
    "\n",
    "        \n",
    "        flattened_size = self._calculate_output_size()\n",
    "\n",
    "        self.fc1 = nn.Linear(flattened_size, 128)\n",
    "        self.fc2 = nn.Linear(128, 128)\n",
    "        self.fc3 = nn.Linear(128, 5) \n",
    "\n",
    "    def _calculate_output_size(self):\n",
    "        \n",
    "        x = torch.zeros(1, 3, 32, 32)  \n",
    "        x = self.relu(self.conv1(x))\n",
    "        x = self.relu(self.conv2(x))\n",
    "        x = self.pool(x)\n",
    "        x = self.dropout1(x)\n",
    "\n",
    "        x = self.relu(self.conv3(x))\n",
    "        x = self.relu(self.conv4(x))\n",
    "        x = self.pool(x)\n",
    "        x = self.dropout2(x)\n",
    "\n",
    "        x = self.relu(self.conv5(x))\n",
    "        x = self.relu(self.conv6(x))\n",
    "        x = self.relu(self.conv7(x))\n",
    "        x = self.pool(x)\n",
    "        x = self.dropout3(x)\n",
    "\n",
    "        x = self.adaptive_pool(x)\n",
    "        flattened_size = x.view(1, -1).size(1)\n",
    "        return flattened_size\n",
    "\n",
    "    def forward(self, x):\n",
    "        x = self.relu(self.conv1(x))\n",
    "        x = self.relu(self.conv2(x))\n",
    "        x = self.pool(x)\n",
    "        x = self.dropout1(x)\n",
    "\n",
    "        x = self.relu(self.conv3(x))\n",
    "        x = self.relu(self.conv4(x))\n",
    "        x = self.pool(x)\n",
    "        x = self.dropout2(x)\n",
    "\n",
    "        x = self.relu(self.conv5(x))\n",
    "        x = self.relu(self.conv6(x))\n",
    "        x = self.relu(self.conv7(x))\n",
    "        x = self.pool(x)\n",
    "        x = self.dropout3(x)\n",
    "\n",
    "        x = self.adaptive_pool(x)\n",
    "        x = x.view(x.size(0), -1)  \n",
    "\n",
    "        x = self.relu(self.fc1(x))\n",
    "        x = self.dropout4(x)\n",
    "        x = self.relu(self.fc2(x))\n",
    "        x = self.dropout4(x)\n",
    "        x = self.fc3(x)\n",
    "\n",
    "        return x"
   ]
  },
  {
   "cell_type": "code",
   "execution_count": 3,
   "metadata": {},
   "outputs": [],
   "source": [
    "class DrowsinessDataset(Dataset):\n",
    "    def __init__(self, folder_path, classes_df, transform=None):\n",
    "        self.folder_path = folder_path\n",
    "        self.classes_df = classes_df\n",
    "        self.transform = transform\n",
    "        self.image_paths = classes_df['filename'].values\n",
    "        self.labels = classes_df[['awake', 'drowsy', 'phone', 'seatbelt', 'yawn']].values\n",
    "\n",
    "    def __len__(self):\n",
    "        return len(self.image_paths)\n",
    "\n",
    "    def __getitem__(self, idx):\n",
    "        image_path = os.path.join(self.folder_path, self.image_paths[idx])\n",
    "        image = Image.open(image_path).convert('RGB')\n",
    "\n",
    "        if self.transform:\n",
    "            image = self.transform(image)\n",
    "\n",
    "        # The label is a multi-label binary array, e.g., [1, 0, 0, 1, 0]\n",
    "        label = torch.FloatTensor(self.labels[idx])\n",
    "        return image, label"
   ]
  },
  {
   "cell_type": "code",
   "execution_count": 4,
   "metadata": {},
   "outputs": [],
   "source": [
    "def load_classes_file(csv_file_path):\n",
    "  \n",
    "    df = pd.read_csv(csv_file_path)\n",
    "    df.columns = df.columns.str.strip()  \n",
    "    return df"
   ]
  },
  {
   "cell_type": "code",
   "execution_count": 5,
   "metadata": {},
   "outputs": [],
   "source": [
    "train_transform = transforms.Compose([\n",
    "    transforms.Resize((145, 145)),\n",
    "    transforms.RandomHorizontalFlip(p=0.25),\n",
    "    transforms.RandomRotation(60),\n",
    "    transforms.ToTensor(),\n",
    "    transforms.Normalize((0.5, 0.5, 0.5), (0.5, 0.5, 0.5))\n",
    "])\n",
    "\n",
    "test_transform = transforms.Compose([\n",
    "    transforms.Resize((145, 145)),\n",
    "    transforms.ToTensor(),\n",
    "    transforms.Normalize((0.5, 0.5, 0.5), (0.5, 0.5, 0.5))\n",
    "])"
   ]
  },
  {
   "cell_type": "code",
   "execution_count": 6,
   "metadata": {},
   "outputs": [],
   "source": [
    "train_folder = 'dataset/train'\n",
    "test_folder = 'dataset/test'\n",
    "valid_folder = 'dataset/valid'"
   ]
  },
  {
   "cell_type": "code",
   "execution_count": 7,
   "metadata": {},
   "outputs": [],
   "source": [
    "train_classes_file = os.path.join(train_folder, '_classes.csv')\n",
    "test_classes_file = os.path.join(test_folder, '_classes.csv')\n",
    "valid_classes_file = os.path.join(valid_folder, '_classes.csv')"
   ]
  },
  {
   "cell_type": "code",
   "execution_count": 8,
   "metadata": {},
   "outputs": [
    {
     "name": "stdout",
     "output_type": "stream",
     "text": [
      "Train Classes Columns: ['filename', 'awake', 'drowsy', 'phone', 'seatbelt', 'yawn']\n"
     ]
    }
   ],
   "source": [
    "train_classes_df = load_classes_file(train_classes_file)\n",
    "print(\"Train Classes Columns:\", train_classes_df.columns.tolist()) \n",
    "test_classes_df = load_classes_file(test_classes_file)"
   ]
  },
  {
   "cell_type": "code",
   "execution_count": 9,
   "metadata": {},
   "outputs": [],
   "source": [
    "train_dataset = DrowsinessDataset(train_folder, train_classes_df, transform=train_transform)\n",
    "test_dataset = DrowsinessDataset(test_folder, test_classes_df, transform=test_transform)"
   ]
  },
  {
   "cell_type": "code",
   "execution_count": 10,
   "metadata": {},
   "outputs": [],
   "source": [
    "train_loader = DataLoader(train_dataset, batch_size=32, shuffle=True)\n",
    "test_loader = DataLoader(test_dataset, batch_size=32, shuffle=False)"
   ]
  },
  {
   "cell_type": "code",
   "execution_count": 11,
   "metadata": {},
   "outputs": [],
   "source": [
    "device = torch.device(\"cuda\" if torch.cuda.is_available() else \"cpu\")\n",
    "model = CNN().to(device)\n",
    "criterion = nn.BCEWithLogitsLoss()\n",
    "optimizer = optim.Adam(model.parameters(), lr=0.001)"
   ]
  },
  {
   "cell_type": "code",
   "execution_count": 12,
   "metadata": {},
   "outputs": [
    {
     "name": "stdout",
     "output_type": "stream",
     "text": [
      "Epoch 1/10, Batch 0/25, Loss: 0.6984\n",
      "Validation Accuracy: 67.89%\n",
      "Epoch 2/10, Batch 0/25, Loss: 0.5536\n",
      "Validation Accuracy: 67.89%\n",
      "Epoch 3/10, Batch 0/25, Loss: 0.5927\n",
      "Validation Accuracy: 67.89%\n",
      "Epoch 4/10, Batch 0/25, Loss: 0.5529\n",
      "Validation Accuracy: 73.68%\n",
      "Epoch 5/10, Batch 0/25, Loss: 0.5422\n",
      "Validation Accuracy: 67.89%\n",
      "Epoch 6/10, Batch 0/25, Loss: 0.4777\n",
      "Validation Accuracy: 72.11%\n",
      "Epoch 7/10, Batch 0/25, Loss: 0.5521\n",
      "Validation Accuracy: 72.63%\n",
      "Epoch 8/10, Batch 0/25, Loss: 0.5191\n",
      "Validation Accuracy: 67.89%\n",
      "Epoch 9/10, Batch 0/25, Loss: 0.4743\n",
      "Validation Accuracy: 72.11%\n",
      "Epoch 10/10, Batch 0/25, Loss: 0.5396\n",
      "Validation Accuracy: 68.95%\n"
     ]
    }
   ],
   "source": [
    "num_epochs = 10\n",
    "for epoch in range(num_epochs):\n",
    "    model.train()\n",
    "    for batch_idx, (data, target) in enumerate(train_loader):\n",
    "        data, target = data.to(device), target.float().to(device)\n",
    "        optimizer.zero_grad()\n",
    "        output = model(data)\n",
    "        loss = criterion(output.squeeze(), target)\n",
    "        loss.backward()\n",
    "        optimizer.step()\n",
    "\n",
    "        if batch_idx % 100 == 0:\n",
    "            print(f'Epoch {epoch+1}/{num_epochs}, Batch {batch_idx}/{len(train_loader)}, Loss: {loss.item():.4f}')\n",
    "\n",
    "    model.eval()\n",
    "    correct = 0\n",
    "    total = 0\n",
    "    with torch.no_grad():\n",
    "        for data, target in test_loader: \n",
    "            data, target = data.to(device), target.float().to(device)\n",
    "\n",
    "            outputs = model(data)\n",
    "\n",
    "        \n",
    "            predicted = (torch.sigmoid(outputs) > 0.5).float() \n",
    "\n",
    "            correct += (predicted == target).sum().item()\n",
    "            total += target.numel()  \n",
    "\n",
    "\n",
    "    accuracy = 100 * correct / total\n",
    "    print(f'Validation Accuracy: {accuracy:.2f}%')"
   ]
  },
  {
   "cell_type": "code",
   "execution_count": 13,
   "metadata": {},
   "outputs": [],
   "source": [
    "torch.save(model.state_dict(), 'drowsiness_model.pth')"
   ]
  }
 ],
 "metadata": {
  "kernelspec": {
   "display_name": "NLP",
   "language": "python",
   "name": "python3"
  },
  "language_info": {
   "codemirror_mode": {
    "name": "ipython",
    "version": 3
   },
   "file_extension": ".py",
   "mimetype": "text/x-python",
   "name": "python",
   "nbconvert_exporter": "python",
   "pygments_lexer": "ipython3",
   "version": "3.8.19"
  }
 },
 "nbformat": 4,
 "nbformat_minor": 2
}
